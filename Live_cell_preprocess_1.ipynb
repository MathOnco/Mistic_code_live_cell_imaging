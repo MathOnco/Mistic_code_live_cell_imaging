{
 "cells": [
  {
   "cell_type": "markdown",
   "id": "42c41023-fa05-4f26-b3a5-ad8a9693f734",
   "metadata": {},
   "source": [
    "## Live cell imaging: file rename per time series\n",
    "### 30th dec 2022\n",
    "### 3rd Jan 2023 \n",
    "### 7th Jan 2023 \n",
    "### 13th Jan 2023 - plotting just the tSNE"
   ]
  },
  {
   "cell_type": "code",
   "execution_count": 1,
   "id": "9c207949-2de2-4c88-a508-1572c5ec68a2",
   "metadata": {},
   "outputs": [],
   "source": [
    "import numpy as np\n",
    "import pandas as pd\n",
    "import scipy.integrate\n",
    "import math\n",
    "import matplotlib.pyplot as plt\n",
    "import seaborn as sns\n",
    "%matplotlib inline\n",
    "from matplotlib import animation, rc\n",
    "from IPython.display import HTML\n",
    "import time\n",
    "import multiprocessing as mp\n",
    "import os\n",
    "\n",
    "from scipy.stats import zscore\n",
    "\n",
    "from sklearn.manifold import TSNE\n",
    "from sklearn.mixture import BayesianGaussianMixture\n",
    "\n",
    "import phenograph as pg\n",
    "import random"
   ]
  },
  {
   "cell_type": "code",
   "execution_count": 140,
   "id": "0d0c8602-cae0-4ff4-b666-a23b9264e71f",
   "metadata": {},
   "outputs": [],
   "source": [
    "path_data = 'NCI-N87_3D_forMistic/FoFX002005_221018_brightfield/FoF7002005_221018_brightfield/' # FoFX001003_221018_brightfield/FoF7001003_221018_brightfield/' #'Archive/FoF7002005_221018_brightfield/'"
   ]
  },
  {
   "cell_type": "code",
   "execution_count": 142,
   "id": "4629d200-d008-42ee-9c42-1925fe6a5d55",
   "metadata": {},
   "outputs": [
    {
     "name": "stdout",
     "output_type": "stream",
     "text": [
      "cell_10.png\n",
      "cell_102.png\n",
      "cell_103.png\n",
      "cell_106.png\n",
      "cell_107.png\n",
      "cell_108.png\n",
      "cell_110.png\n",
      "cell_111.png\n",
      "cell_112.png\n",
      "cell_116.png\n",
      "cell_118.png\n",
      "cell_119.png\n",
      "cell_12.png\n",
      "cell_120.png\n",
      "cell_121.png\n",
      "cell_122.png\n",
      "cell_126.png\n",
      "cell_127.png\n",
      "cell_128.png\n",
      "cell_135.png\n",
      "cell_137.png\n",
      "cell_14.png\n",
      "cell_141.png\n",
      "cell_15.png\n",
      "cell_17.png\n",
      "cell_20.png\n",
      "cell_23.png\n",
      "cell_24.png\n",
      "cell_26.png\n",
      "cell_27.png\n",
      "cell_28.png\n",
      "cell_30.png\n",
      "cell_31.png\n",
      "cell_35.png\n",
      "cell_38.png\n",
      "cell_39.png\n",
      "cell_4.png\n",
      "cell_40.png\n",
      "cell_44.png\n",
      "cell_45.png\n",
      "cell_47.png\n",
      "cell_48.png\n",
      "cell_52.png\n",
      "cell_55.png\n",
      "cell_56.png\n",
      "cell_57.png\n",
      "cell_58.png\n",
      "cell_59.png\n",
      "cell_61.png\n",
      "cell_62.png\n",
      "cell_63.png\n",
      "cell_64.png\n",
      "cell_65.png\n",
      "cell_66.png\n",
      "cell_67.png\n",
      "cell_68.png\n",
      "cell_69.png\n",
      "cell_7.png\n",
      "cell_70.png\n",
      "cell_71.png\n",
      "cell_76.png\n",
      "cell_77.png\n",
      "cell_78.png\n",
      "cell_79.png\n",
      "cell_80.png\n",
      "cell_82.png\n",
      "cell_83.png\n",
      "cell_84.png\n",
      "cell_85.png\n",
      "cell_86.png\n",
      "cell_88.png\n",
      "cell_89.png\n",
      "cell_91.png\n",
      "cell_92.png\n",
      "cell_93.png\n",
      "cell_95.png\n",
      "cell_96.png\n",
      "cell_97.png\n",
      "cell_98.png\n",
      "cell_99.png\n"
     ]
    }
   ],
   "source": [
    "\n",
    "line =7000\n",
    "for fname in sorted(os.listdir(path_data)):  \n",
    "    print(fname)\n",
    "    lc = np.int32(str.split(str.split(fname,\"_\")[1],'.')[0])\n",
    "    #print('reading in FOV '+ str(count))\n",
    "    os.rename(path_data+fname, path_data+str(line+lc)+'.png')\n",
    "    \n",
    "    "
   ]
  },
  {
   "cell_type": "code",
   "execution_count": null,
   "id": "dea2b8cf-98e6-4121-baef-52dfaae8b352",
   "metadata": {},
   "outputs": [],
   "source": []
  }
 ],
 "metadata": {
  "kernelspec": {
   "display_name": "Python 3 (ipykernel)",
   "language": "python",
   "name": "python3"
  },
  "language_info": {
   "codemirror_mode": {
    "name": "ipython",
    "version": 3
   },
   "file_extension": ".py",
   "mimetype": "text/x-python",
   "name": "python",
   "nbconvert_exporter": "python",
   "pygments_lexer": "ipython3",
   "version": "3.7.4"
  }
 },
 "nbformat": 4,
 "nbformat_minor": 5
}
